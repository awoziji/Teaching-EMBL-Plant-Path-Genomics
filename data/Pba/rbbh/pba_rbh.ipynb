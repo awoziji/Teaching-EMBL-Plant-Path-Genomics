{
 "metadata": {
  "name": "",
  "signature": "sha256:2c802ada4c79a255e5330c684cea08661bc5bdb08843b467e78024f0393b7f9d"
 },
 "nbformat": 3,
 "nbformat_minor": 0,
 "worksheets": [
  {
   "cells": [
    {
     "cell_type": "heading",
     "level": 1,
     "metadata": {},
     "source": [
      "*Pectobacterium atrosepticum* reciprocal best matches <img src=\"files/JHI_STRAP_Web.png\" style=\"width: 150px; float: right;\">"
     ]
    },
    {
     "cell_type": "markdown",
     "metadata": {},
     "source": [
      "The goal of this notebook is to demonstrate the loading and representation of *Pectobacterium atrosepticum* genome comparison data to emulate a published figure, using Biopython's `GenomeDiagram` module."
     ]
    },
    {
     "cell_type": "heading",
     "level": 1,
     "metadata": {},
     "source": [
      "Python Imports"
     ]
    },
    {
     "cell_type": "code",
     "collapsed": false,
     "input": [
      "%pylab inline\n",
      "# The above is \"iPython magic\" to import pylab, and get interactive access for plotting, etc.\n",
      "\n",
      "# Python library imports\n",
      "import pandas as pd  # pandas allows us to manipulate dataframes as if we were in R\n",
      "import os            # os gives us a range of functions for interacting with the operating system\n",
      "from random import choice  # Fudge because of my local version of numpy\n",
      "\n",
      "# Modify display properties\n",
      "rcParams['savefig.dpi'] = 2 * rcParams['savefig.dpi']"
     ],
     "language": "python",
     "metadata": {},
     "outputs": []
    },
    {
     "cell_type": "heading",
     "level": 2,
     "metadata": {},
     "source": [
      "Loading genome comparison data"
     ]
    },
    {
     "cell_type": "markdown",
     "metadata": {},
     "source": [
      "The data in the 142 `eca_vs_*` files in this directory contain the results of reciprocal best FASTA analyses between the pre-publication annotation of *Pectobacterium atrosepticum* (at the time, *Erwinia carotovora* subsp. *atroseptica*) and the whole bacterial genomes available at the time. The file format is `MSPcrunch` format, as eight space character-separated columns:\n",
      "\n",
      "`bit_score percent_identity query_start query_end query_chromosome subject_start subject_end subject_chromosome`\n",
      "\n",
      "representing the regions of each of the query and subject chromosomes that correspond to reciprocal best-matching CDS from each organism.\n",
      "\n",
      "**NOTE:** space character separation is not a great idea in data files, as some data fields in some file formats may also contain spaces. This can make parsing difficult. It is usually best to use a tab character or other specific separator, but `.crunch` format specifies whitespace, as detailed in: [ftp://ftp.sanger.ac.uk/pub/resources/software/act/act.pdf](ftp://ftp.sanger.ac.uk/pub/resources/software/act/act.pdf)."
     ]
    },
    {
     "cell_type": "code",
     "collapsed": false,
     "input": [
      "# We create a variable containing the column names\n",
      "colnames = ['bit_score', 'percent_identity', 'query_start', \n",
      "            'query_end', 'query_chromosome', 'subject_start',\n",
      "            'subject_end', 'subject_chromosome']"
     ],
     "language": "python",
     "metadata": {},
     "outputs": []
    },
    {
     "cell_type": "code",
     "collapsed": false,
     "input": [
      "# Load the RBH match data into a dictionary, keyed by target organism name\n",
      "files = [fname for fname in os.listdir('.') if fname.startswith('eca_vs')]  # Get list of data files\n",
      "match_dict = {}                  # Dictionary to hold files\n",
      "for fname in files:              # Loop over filenames\n",
      "    target = fname[7:]           # Extract target organism from filename\n",
      "    df = pd.DataFrame.from_csv(fname, sep=' ', header=None, index_col=None)    # Create data frame \n",
      "    df.columns = colnames        # Assign column headers\n",
      "    match_dict[target] = df      # Add the data to the dictionary"
     ],
     "language": "python",
     "metadata": {},
     "outputs": []
    },
    {
     "cell_type": "heading",
     "level": 2,
     "metadata": {},
     "source": [
      "Visualising the number of matches in the data, by target bacterium"
     ]
    },
    {
     "cell_type": "markdown",
     "metadata": {},
     "source": [
      "We generate a bar chart to indicate how many RBH we find in each target organism"
     ]
    },
    {
     "cell_type": "code",
     "collapsed": false,
     "input": [
      "reportnum = 50                        # Change this value to plot a different number of targets\n",
      "targets = sorted(match_dict.keys())    # Sort to get a consistent order of names\n",
      "\n",
      "# Create a new dataframe to represent number of RBH in each target\n",
      "rbh_counts = pd.DataFrame({'target': targets,\n",
      "                           'count': [len(match_dict[t]) for t in targets]})\n",
      "\n",
      "# Plot bar chart\n",
      "ax = rbh_counts.sort(['count'])[-reportnum:].plot(kind='bar', grid=False, fontsize=5, legend=False)\n",
      "ax.set_title(\"%d targets with greatest number of RBH to Pba\" % reportnum)\n",
      "ax.set_xticklabels(list(rbh_counts.sort(['count'])[-reportnum:]['target']));\n",
      "ax.set_ylabel(\"Number of RBH\")\n",
      "ax.set_xlabel(\"Target organism\")\n",
      "\n",
      "# Save figure to file. Change extension (e.g. top_rbh.pdf) to get different filetype\n",
      "savefig(\"top_rbh.png\", bbox_inches='tight')   "
     ],
     "language": "python",
     "metadata": {},
     "outputs": []
    },
    {
     "cell_type": "heading",
     "level": 2,
     "metadata": {},
     "source": [
      "Inspecting match data directly"
     ]
    },
    {
     "cell_type": "markdown",
     "metadata": {},
     "source": [
      "We can look at match data directly as a data frame, as if we were in `R`. "
     ]
    },
    {
     "cell_type": "code",
     "collapsed": false,
     "input": [
      "# Define a set of organism names - one will be chosen at random to be used in the rest of the notebook\n",
      "orgchoice = choice(match_dict.keys())  # Choose an organism at random\n",
      "\n",
      "# You can uncomment the line below, or set the name of a favourite organism, to \n",
      "# force a particular choice\n",
      "#orgchoice = 'Yersinia_pestis_KIM'\n",
      "\n",
      "# Select the dataset\n",
      "data = match_dict[orgchoice]                     # Select the dataset\n",
      "print(\"Your organism is: %s\" % orgchoice)        # Report the choice\n",
      "data.head()  # The .head() method shows the first few rows of the data table"
     ],
     "language": "python",
     "metadata": {},
     "outputs": []
    },
    {
     "cell_type": "code",
     "collapsed": false,
     "input": [
      "numpy.random.sample(['a', 'b', 'c'])"
     ],
     "language": "python",
     "metadata": {},
     "outputs": []
    },
    {
     "cell_type": "code",
     "collapsed": false,
     "input": [],
     "language": "python",
     "metadata": {},
     "outputs": []
    }
   ],
   "metadata": {}
  }
 ]
}