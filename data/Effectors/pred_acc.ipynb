{
 "metadata": {
  "name": "",
  "signature": "sha256:13c3317b8cf5887a317518fddcfece1c8af9c50c5aadfba7390265c6b9d2d7fb"
 },
 "nbformat": 3,
 "nbformat_minor": 0,
 "worksheets": [
  {
   "cells": [
    {
     "cell_type": "heading",
     "level": 1,
     "metadata": {},
     "source": [
      "Prediction Accuracy <img src=\"files/JHI_STRAP_Web.png\" style=\"width: 150px; float: right;\">"
     ]
    },
    {
     "cell_type": "markdown",
     "metadata": {},
     "source": [
      "This iPython notebook provides an interactive example to demonstrate the variation in effector (or any other property) prediction accuracy, as the base rate of occurrence varies, for any combination of false positive rate (FPR) and sensitivity for the predictive method.\n",
      "\n",
      "**NOTE:** The interactive example will work only in iPython v2 or greater."
     ]
    },
    {
     "cell_type": "heading",
     "level": 1,
     "metadata": {},
     "source": [
      "Theory, and Python functions"
     ]
    },
    {
     "cell_type": "markdown",
     "metadata": {},
     "source": [
      "The code below defines two functions. The first, `p_correct_given_pos`, calculates the probability that, given that a (binary) classifier prediction is 'positive', the item being classified is truly 'positive', using Bayes' Theorem. \n",
      "\n",
      "We can call a member of the 'positive' class $pos$ (so 'negative's are $\\overline{pos}$), and a positive prediction $+ve$. Then, the base rate of 'positive' class members is $P(pos)$, the sensitivity of the test is $P(+ve|pos)$, and the FPR is $1-P(+ve|\\overline{pos})$.\n",
      "\n",
      "The probability that if the test/classifier has a positive result, the item being classified is 'positive' ($P(pos|+ve)$), is then given by Bayes' Theorem:\n",
      "\n",
      "$$P(pos|+ve) = \\frac{P(+ve|pos)P(pos)}{P(+ve|pos)P(pos) + P(+ve|\\overline{pos})P(\\overline{pos})}$$\n",
      "\n",
      "The second function, `plot_prob_effector`, renders a line graph of the expected value of $P(pos|+ve)$ against the base rate of positive examples in the dataset being classified."
     ]
    },
    {
     "cell_type": "code",
     "collapsed": false,
     "input": [
      "%pylab inline\n",
      "\n",
      "from IPython.html.widgets import interact  # for interactive widgets\n",
      "\n",
      "def p_correct_given_pos(sens, fpr, b):\n",
      "    \"\"\" Returns a simple Bayesian probability for the probability\n",
      "        that a prediction is correct, given that the prediction\n",
      "        was positive, given the prevailing sensitivity (sens),\n",
      "        false positive rate (fpr) and base rate of positive \n",
      "        examples.\n",
      "    \"\"\"\n",
      "    assert 0 <= sens <= 1, \"Sensitivity must be in range [0,1]\"\n",
      "    assert 0 <= fpr <= 1, \"FPR must be in range [0,1]\"\n",
      "    return sens * b / (sens * b + fpr * (1 - b))\n",
      "    \n",
      "\n",
      "def plot_prob_effector(sens, fpr, xmax=1):\n",
      "    \"\"\" Plots a line graph of P(effector|positive test) against\n",
      "        the baserate of effectors in the input set to the classifier.\n",
      "    \"\"\"\n",
      "    assert 0.1 <= xmax <= 1, \"Max x axis value must be in range [0,1]\"\n",
      "    baserate = arange(0, 1.05, xmax * 0.005)  # Range of positive example base rate\n",
      "    probs = [p_correct_given_pos(sens, fpr, b) for b in baserate]\n",
      "    plot(baserate, probs, 'r')\n",
      "    title(\"P(effector|positive) vs baserate of effectors\")\n",
      "    ylabel(\"P(effector|positive)\")\n",
      "    xlabel(\"effector baserate\")\n",
      "    xlim(0, xmax)\n",
      "    ylim(0, 1)"
     ],
     "language": "python",
     "metadata": {},
     "outputs": []
    },
    {
     "cell_type": "heading",
     "level": 2,
     "metadata": {},
     "source": [
      "Single Plot Example"
     ]
    },
    {
     "cell_type": "markdown",
     "metadata": {},
     "source": [
      "The example below uses the `plot_prob_effector` function to plot a curve of the expected value of $P(effector|+ve)$ against baseline effector rate, with a sensitivity of 0.95, and false positive rate of 0.05. These values would be exceptionally good for a real-life effector classifier."
     ]
    },
    {
     "cell_type": "code",
     "collapsed": false,
     "input": [
      "plot_prob_effector(0.95, 0.05)"
     ],
     "language": "python",
     "metadata": {},
     "outputs": []
    },
    {
     "cell_type": "markdown",
     "metadata": {},
     "source": [
      "As can be seen from the curve above, a test like this performs very well, such that $P(pos|+ve) > 0.8$ for the majority of baseline effector rates - specifically all rates above around 20%.\n",
      "\n",
      "However, a typical effector class constitutes 3% or less of the total CDS complement of any pathogen, so a test like this would actually be expected to have $P(pos|+ve) \\approx 0.2$ or lower if applied to a complete pathogen genome CDS complement.\n",
      "\n",
      "One approach to improve predictive performance in practice is to *stratify* the data to which the classifier is applied. That is, if there are criteria that are necessary for membership of the effector class (e.g. presence of a signal peptide, or characteristic regulatory sequence), these can be used to exclude a large proportion of the genome, and effectively increase the base rate of effectors *with respect to the set of sequences passed to the classifier*."
     ]
    },
    {
     "cell_type": "heading",
     "level": 2,
     "metadata": {},
     "source": [
      "Interactive Example"
     ]
    },
    {
     "cell_type": "markdown",
     "metadata": {},
     "source": [
      "The interactive example below allows you to choose the sensitivity (`sens`) and false positive rate (`fpr`) for the effector classifier, and renders a plot of expected $P(pos|+ve)$ against base rate of effectors in the input set to the classifier.\n",
      "\n",
      "By setting the value of `xmax` appropriately, you can zoom in to values for low base rates of effector occurrence."
     ]
    },
    {
     "cell_type": "code",
     "collapsed": false,
     "input": [
      "interact(plot_prob_effector, sens=(0.01, 0.99, 0.01), \n",
      "         fpr=(0.01, 0.99, 0.01), xmax=(0.1, 1, 0.01));"
     ],
     "language": "python",
     "metadata": {},
     "outputs": []
    }
   ],
   "metadata": {}
  }
 ]
}