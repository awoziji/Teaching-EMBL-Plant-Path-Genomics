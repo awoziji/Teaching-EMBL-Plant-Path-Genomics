{
 "metadata": {
  "name": "",
  "signature": "sha256:f431fe2225e860e2b2f33f2aedff2e13ec5de8a9d0e28129437d6aed262149c3"
 },
 "nbformat": 3,
 "nbformat_minor": 0,
 "worksheets": [
  {
   "cells": [
    {
     "cell_type": "heading",
     "level": 1,
     "metadata": {},
     "source": [
      "*Phytophthora infestans* Two-speed Genome  <img src=\"files/JHI_STRAP_Web.png\" style=\"width: 150px; float: right;\"> "
     ]
    },
    {
     "cell_type": "heading",
     "level": 2,
     "metadata": {},
     "source": [
      "Introduction"
     ]
    },
    {
     "cell_type": "markdown",
     "metadata": {},
     "source": [
      "The aim of this iPython notebook is to demonstrate\n",
      "\n",
      "1. handling and processing of slightly atypical genome data\n",
      "2. emulation of a published figure, in this case figure 2 from the *Phytophthora infestans* genome paper [Haas *et al.* (2009)](http://dx.doi.org/10.1038/nature08358)"
     ]
    },
    {
     "cell_type": "markdown",
     "metadata": {},
     "source": [
      "<center>\n",
      "<img src=\"files/pi_two_speed.png\" style=\"width: 400px;\" alt=\"Figure 2 from Phytophthora infestans genome paper\"><br /></center>\n",
      "**Figure 2** from the *Phytophthora infestans* genome paper [Haas *et al.* (2009)](http://dx.doi.org/10.1038/nature08358). The flanking distance between neighbouring genes provides a measurement of local gene density. *P. infestans* genes were sorted into two dimensional bins on the basis of the lengths of flanking intergenic distances to neighbouring genes at their 5' and 3' ends. a\u2013h, The number of genes in each bin is shown as a colour-coded heat map on orthogonal projection "
     ]
    },
    {
     "cell_type": "markdown",
     "metadata": {},
     "source": [
      "The general preparation of 2D histograms (a graphics function in many different data analysis environments) from flanking region sizes, is also discussed for the statistical language `R` in Chapter 3 of [this book](http://www.springer.com/life+sciences/plant+sciences/book/978-1-62703-985-7) in the Springer *Methods in Molecular Biology* series. However you have to pay to read that, while this notebook is free. Also, that chapter uses `R` to render the figures, which is lovely and all but\u2026 this is Python!"
     ]
    },
    {
     "cell_type": "heading",
     "level": 2,
     "metadata": {},
     "source": [
      "Python imports"
     ]
    },
    {
     "cell_type": "markdown",
     "metadata": {},
     "source": [
      "We need to import some modules for processing sequence data, using dataframes, and obtaining the benefits of `pylab`. We also do some image size housekeeping to make figures larger by default."
     ]
    },
    {
     "cell_type": "code",
     "collapsed": false,
     "input": [
      "%pylab inline\n",
      "\n",
      "# Use Biopython sequence parsers\n",
      "from Bio import SeqIO\n",
      "\n",
      "# Use pandas dataframes\n",
      "import pandas as pd\n",
      "\n",
      "# Make images/figures larger by default\n",
      "rcParams['savefig.dpi'] = 2 * rcParams['savefig.dpi']"
     ],
     "language": "python",
     "metadata": {},
     "outputs": []
    },
    {
     "cell_type": "heading",
     "level": 2,
     "metadata": {},
     "source": [
      "Downloading data files"
     ]
    },
    {
     "cell_type": "markdown",
     "metadata": {},
     "source": [
      "*P. infestans* data files necessary for this notebook can be obtained from [the Broad Institute site](http://www.broadinstitute.org/annotation/genome/phytophthora_infestans/MultiHome.html):\n",
      "\n",
      "* [Supercontigs, in FASTA format](http://www.broadinstitute.org/annotation/genome/phytophthora_infestans/download/?sp=EASupercontigsFasta&sp=SPI_T30-4&sp=S.zip)\n",
      "* [Transcript annotations, in `.gtf` format](http://www.broadinstitute.org/annotation/genome/phytophthora_infestans/download/?sp=EATranscriptsGtf&sp=SPI_T30-4&sp=S.zip)"
     ]
    },
    {
     "cell_type": "heading",
     "level": 2,
     "metadata": {},
     "source": [
      "Identify gene-flanking regions"
     ]
    },
    {
     "cell_type": "markdown",
     "metadata": {},
     "source": [
      "Since the aim is to use `bedtools` to process our gene feature files, we need to convert the `.gtf` file downloaded from the Broad Institute to a `.bed` format (BED6) file, suitable for use with `bedtools`.\n",
      "\n",
      "* [GTF file format specification](http://www.ensembl.org/info/website/upload/gff.html)\n",
      "* [BED file format specification](http://genome.ucsc.edu/FAQ/FAQformat.html#format1)\n",
      "\n",
      "The goal here is to use `bedtools` to identify the up- and down-stream (5' and 3') distances to the next feature, at the command-line.\n",
      "\n",
      "The code below implements a dumb and fragile parser to process genes to genomic regions (defined as the sequence between the first base of the start codon, and the last base of the stop codon) and write them to the `.bed` file `gene_regions.bed`."
     ]
    },
    {
     "cell_type": "code",
     "collapsed": false,
     "input": [
      "# This parser is VERY FRAGILE, as it assumes:\n",
      "# - all gene features have a start and stop codon\n",
      "#\u00a0- in all cases, the start_codon occurs before the stop_codon\n",
      "def gtf_to_bed(infile, outfile):\n",
      "    with open(infile, 'rU') as fh:\n",
      "        with open(outfile, 'w') as oh:\n",
      "            for line in fh:\n",
      "                data = line.split()\n",
      "                strand = data[6]            \n",
      "                if data[2] == 'start_codon':\n",
      "                    if strand == '+':\n",
      "                        start = int(data[3])\n",
      "                    else:\n",
      "                        start = int(data[4])\n",
      "                elif data[2] == 'stop_codon':\n",
      "                    if strand == '+':\n",
      "                        stop = int(data[4])\n",
      "                    else:\n",
      "                        stop = int(data[3])\n",
      "                    genome = data[0]\n",
      "                    name = data[9].replace('\"','')[:-1]\n",
      "                    # At least one feature lacks a start codon in the \n",
      "                    # .gtf file; this if statement and None assignment\n",
      "                    # works around that problem.\n",
      "                    if start is not None:\n",
      "                        oh.write(\"\\t\".join([genome, str(min(start, stop)),\n",
      "                                            str(max(start, stop)), name,\n",
      "                                            \"0\", strand]) + \"\\n\")\n",
      "                    start, stop, name, strand = None, None, None, None\n",
      "\n",
      "# Name the input and output files                    \n",
      "feature_file = \"phytophthora_infestans_t30-4_1_transcripts.gtf\"\n",
      "output_file = \"gene_regions.bed\"\n",
      "\n",
      "# Convert the GTF file to a suitable BED file\n",
      "gtf_to_bed(feature_file, output_file)                    "
     ],
     "language": "python",
     "metadata": {},
     "outputs": []
    },
    {
     "cell_type": "markdown",
     "metadata": {},
     "source": [
      "It is also necessary to create a `.genome` file with the lengths of each supercontig."
     ]
    },
    {
     "cell_type": "code",
     "collapsed": false,
     "input": [
      "def fasta_to_genome(infile, outfile):\n",
      "    \"\"\" Reads the passed FASTA (multiple) sequence file and writes\n",
      "        a bedtools compatible genome file with two columns: column 1\n",
      "        indicates sequence name, and column 2 sequence length.\n",
      "    \"\"\"\n",
      "    with open(outfile, 'w') as oh:\n",
      "        for s in SeqIO.parse(infile, 'fasta'):\n",
      "            oh.write(\"\\t\".join([s.id, str(len(s))]) + '\\n')\n",
      "\n",
      "# Name input and output files            \n",
      "supercontig_file = \"phytophthora_infestans_t30-4_1_supercontigs.fasta\"\n",
      "output_file = \"supercontigs.genome\"\n",
      "\n",
      "# Create .genome file\n",
      "fasta_to_genome(supercontig_file, output_file)"
     ],
     "language": "python",
     "metadata": {},
     "outputs": []
    },
    {
     "cell_type": "markdown",
     "metadata": {},
     "source": [
      "Once the `.bed` file representing gene features, and `.genome` file representing supercontig lengths are created, the intervals between features can be identified and associated with each gene feature. This is done using `bedtools` at the command-line.\n",
      "\n",
      "First, use `bedtools complement` to identify the intervals between gene features:\n",
      "\n",
      "```\n",
      "bedtools complement -i gene_regions.bed -g supercontigs.genome > intervals.bed\n",
      "```\n",
      "\n",
      "Then use `bedtools closest` to identify the adjacent interval regions (these all overlap the gene features by the same amount, so both up and downstream intervals are reported for each gene region):\n",
      "\n",
      "```\n",
      "bedtools closest -a gene_regions.bed -b intervals.bed > flanking_regions.tab\n",
      "```"
     ]
    },
    {
     "cell_type": "heading",
     "level": 2,
     "metadata": {},
     "source": [
      "Calculate gene-flanking region lengths"
     ]
    },
    {
     "cell_type": "markdown",
     "metadata": {},
     "source": [
      "We use `pandas` dataframes to read in the flanking region data, and calculate the lengths of upstream and downstream regions for each feature, and also decide whether each flanking region is upstream or downstream."
     ]
    },
    {
     "cell_type": "code",
     "collapsed": false,
     "input": [
      "# We neither have a header row, nor use indexing in the input file,\n",
      "# so specify this when reading the file\n",
      "data = pd.DataFrame.from_csv(\"flanking_regions.tab\", sep=\"\\t\",\n",
      "                             header=None, index_col=None)\n",
      "# Assign column names\n",
      "data.columns = ['supercontig', 'ft_start', 'ft_end', 'ft_name', 'score',\n",
      "                'strand', 'sc', 'flank_start', 'flank_end']\n",
      "\n",
      "# Calculate flanking region lengths\n",
      "data['flank_len'] = data['flank_end'] - data['flank_start']\n",
      "\n",
      "# Identify upstream and downstream flanks\n",
      "def assign_side(s):\n",
      "    strand, flank_start, ft_start = s['strand'], s['flank_start'], s['ft_start']\n",
      "    if strand == '+':\n",
      "        if flank_start < ft_start:\n",
      "            return 'upstream'\n",
      "        else:\n",
      "            return 'downstream'\n",
      "    else:\n",
      "        if flank_start > ft_start:\n",
      "            return 'upstream'\n",
      "        else:\n",
      "            return 'downstream' \n",
      "data['side'] = data.apply(assign_side, axis=1)        "
     ],
     "language": "python",
     "metadata": {},
     "outputs": []
    },
    {
     "cell_type": "markdown",
     "metadata": {},
     "source": [
      "Inspecting the data to make sure we have sane values, with `.head()`"
     ]
    },
    {
     "cell_type": "code",
     "collapsed": false,
     "input": [
      "data.head()"
     ],
     "language": "python",
     "metadata": {},
     "outputs": []
    },
    {
     "cell_type": "markdown",
     "metadata": {},
     "source": [
      "Melt the data so that there are three columns: the feature name, and the up- and downstream flanking region lengths:"
     ]
    },
    {
     "cell_type": "code",
     "collapsed": false,
     "input": [
      "# Create an index for the upstream and downstream rows of the dataframe\n",
      "upstream_idx = data.side.isin(['upstream'])\n",
      "downstream_idx = data.side.isin(['downstream'])\n",
      "\n",
      "# Create upstream and downstream dataframes\n",
      "upstream = data[upstream_idx][['ft_name', 'flank_len']]\n",
      "upstream.columns = ['ft_name', 'upstream']\n",
      "downstream = data[downstream_idx][['ft_name', 'flank_len']]\n",
      "downstream.columns = ['ft_name', 'downstream']\n",
      "\n",
      "# Merge the dataframes into a single object\n",
      "flank_lens = upstream.merge(downstream, on='ft_name')"
     ],
     "language": "python",
     "metadata": {},
     "outputs": []
    },
    {
     "cell_type": "markdown",
     "metadata": {},
     "source": [
      "Inspecting the new dataframe to make sure it's sane:"
     ]
    },
    {
     "cell_type": "code",
     "collapsed": false,
     "input": [
      "flank_lens.head()"
     ],
     "language": "python",
     "metadata": {},
     "outputs": []
    },
    {
     "cell_type": "heading",
     "level": 2,
     "metadata": {},
     "source": [
      "Plot flanking region lengths"
     ]
    },
    {
     "cell_type": "markdown",
     "metadata": {},
     "source": [
      "Plotting the up- and downstream flanking region lengths to see if they resemble the published figure."
     ]
    },
    {
     "cell_type": "code",
     "collapsed": false,
     "input": [
      "# In this example we're using the idiom of creating a Figure object\n",
      "# with subplots, but there's more than one way to do it. We'll use a\n",
      "# different method below. \n",
      "# The advantage with explicitly creating a Figure, as here, is \n",
      "# that we get a little more control over presentation, such as by \n",
      "# using figsize to control the aspect ratio.\n",
      "fig, ax = plt.subplots(figsize=(5,5))\n",
      "ax.scatter(log2(flank_lens.upstream), log2(flank_lens.downstream), alpha=0.2)\n",
      "ax.set_xlim(0, 20)\n",
      "ax.set_ylim(0, 20)\n",
      "ax.set_xlabel(\"upstream\")\n",
      "ax.set_ylabel(\"downstream\")\n",
      "ax.set_title(\"Scatterplot of downstream against upstream flanking region lengths\");"
     ],
     "language": "python",
     "metadata": {},
     "outputs": []
    },
    {
     "cell_type": "markdown",
     "metadata": {},
     "source": [
      "Creating a function that will show a 2D histogram of all upstream/downstream flanking region lengths passed in the `data` argument:"
     ]
    },
    {
     "cell_type": "code",
     "collapsed": false,
     "input": [
      "def plot_two_speed(d, t=\"\", b=50, interpolation='nearest',\n",
      "                   cmap='terrain', vmin=0.01, vmax=None, ax=None,\n",
      "                   ylab=True, doscatter=False):\n",
      "    \"\"\" Renders a 2D histogram of upstream and downstream \n",
      "        flanking region lengths\n",
      "        \n",
      "        - data: a Pandas DataFrame with columns named 'upstream' and 'downstream'\n",
      "        - t: a string, the plot title\n",
      "        - interpolation, the pixel interpolation method to use\n",
      "        - cmap, the colour map to use\n",
      "        - vmin, the smallest value on the colour scale\n",
      "        - vmax, the largest value on the colour scale\n",
      "        - ax, the axis to draw the image in\n",
      "        - ylabel, Boolean - do or do not label the y-axis\n",
      "        - scatter, Boolean - if True, overlay points as a scatterplot\n",
      "    \"\"\"\n",
      "    my_cmap = get_cmap(cmap)\n",
      "    my_cmap.set_under('w')\n",
      "    maxval = ceil(max(max(log2(d.upstream)), max(log2(d.downstream))))\n",
      "    H, xedges, yedges = histogram2d(log2(d.upstream), log2(d.downstream),\n",
      "                                    bins=b, range=[[0, maxval],[0, maxval]])\n",
      "    if ax:  # Render in the passed axis; no colorbar or title\n",
      "        im = ax.imshow(H, interpolation=interpolation, origin='low', \n",
      "                        extent=[0, xedges[-1], 0, yedges[-1]],\n",
      "                        vmin=vmin, vmax=vmax, cmap=my_cmap)\n",
      "        ax.set_xlabel(\"upstream\")\n",
      "        if ylab:\n",
      "            ax.set_ylabel(\"downstream\")\n",
      "        if doscatter:\n",
      "            ax.scatter(log2(d.upstream), log2(d.downstream), c='y', alpha=0.5)\n",
      "    else:  # Render inline\n",
      "        imshow(H, interpolation=interpolation, origin='low', \n",
      "               extent=[0, xedges[-1], 0, yedges[-1]],\n",
      "               vmin=vmin, vmax=vmax, cmap=my_cmap)\n",
      "        colorbar()\n",
      "        xlabel(\"upstream\")\n",
      "        ylabel(\"downstream\")\n",
      "        title(t);\n",
      "        if doscatter:\n",
      "            scatter(log2(d.upstream), log2(d.downstream), c='y', alpha=0.5)"
     ],
     "language": "python",
     "metadata": {},
     "outputs": []
    },
    {
     "cell_type": "markdown",
     "metadata": {},
     "source": [
      "To use the function, just call it with an appropriate dataset. An appropriate dataset is one with columns called 'upstream' and 'downstream', where those columns contain numerical data."
     ]
    },
    {
     "cell_type": "code",
     "collapsed": false,
     "input": [
      "plot_two_speed(flank_lens, \"2D histogram of downstream against upstream flanking region lengths\",\n",
      "               interpolation='nearest', b=55, vmax=85, cmap='jet');"
     ],
     "language": "python",
     "metadata": {},
     "outputs": []
    },
    {
     "cell_type": "markdown",
     "metadata": {},
     "source": [
      "This seems to be a reasonable facsimile of the published figure."
     ]
    },
    {
     "cell_type": "markdown",
     "metadata": {},
     "source": [
      "A reasonable question might be, how much do the characteristics of this figure depend on our choice of visualisation parameters? Now that there's a function to hand: `plot_two_speed()`, we can test this directly."
     ]
    },
    {
     "cell_type": "markdown",
     "metadata": {},
     "source": [
      "Firstly, let's compare the effect of changing colormaps. Lists of colormap values can be found online, e.g.\n",
      "\n",
      "* [Matplotlib documentation](http://wiki.scipy.org/Cookbook/Matplotlib/Show_colormaps)\n",
      "* [colormaps reference](http://matplotlib.org/examples/color/colormaps_reference.html)"
     ]
    },
    {
     "cell_type": "code",
     "collapsed": false,
     "input": [
      "# Make a figure with one row and three columns\n",
      "fig, (ax1, ax2, ax3) = plt.subplots(1, 3)\n",
      "\n",
      "# Use different colour schemes in each axis:\n",
      "for ax, c, yl in [(ax1, 'binary', True), (ax2, 'jet', False), (ax3, 'Set3', False)]:\n",
      "    plot_two_speed(flank_lens, \"Colormap: %s\" % c,\n",
      "                   interpolation='nearest', b=55, vmax=None, cmap=c, ax=ax,\n",
      "                   ylab=yl);"
     ],
     "language": "python",
     "metadata": {},
     "outputs": []
    },
    {
     "cell_type": "markdown",
     "metadata": {},
     "source": [
      "Next, for the same colour scheme, what happens if we change bin size, allowing colourmap scale to vary with maximum bin count?"
     ]
    },
    {
     "cell_type": "code",
     "collapsed": false,
     "input": [
      "# Make a figure with one row and three columns\n",
      "fig, (ax1, ax2, ax3) = plt.subplots(1, 3)\n",
      "\n",
      "# Use different bin size in each axis:\n",
      "for ax, b, yl in [(ax1, 30, True), (ax2, 55, False), (ax3, 100, False)]:\n",
      "    plot_two_speed(flank_lens, \"Bin size: %d\" % b,\n",
      "                   interpolation='nearest', b=b, vmax=None, cmap='jet', ax=ax,\n",
      "                   ylab=yl);"
     ],
     "language": "python",
     "metadata": {},
     "outputs": []
    },
    {
     "cell_type": "markdown",
     "metadata": {},
     "source": [
      "What if we keep the bin size the same, but vary the cutoff point for the colormap?"
     ]
    },
    {
     "cell_type": "code",
     "collapsed": false,
     "input": [
      "# Make a figure with one row and three columns\n",
      "fig, (ax1, ax2, ax3) = plt.subplots(1, 3)\n",
      "\n",
      "# Use different bin size in each axis:\n",
      "for ax, v, yl in [(ax1, 60, True), (ax2, 85, False), (ax3, None, False)]:\n",
      "    plot_two_speed(flank_lens, \"vMax: %s\" % str(v),\n",
      "                   interpolation='nearest', b=50, vmax=v, cmap='jet', ax=ax,\n",
      "                   ylab=yl);"
     ],
     "language": "python",
     "metadata": {},
     "outputs": []
    },
    {
     "cell_type": "markdown",
     "metadata": {},
     "source": [
      "Finally, for the same colour scheme and bin size, what happens if we change the rendering interpolation setting. Bear in mind that none of these settings exactly matches that used in the original publication."
     ]
    },
    {
     "cell_type": "code",
     "collapsed": false,
     "input": [
      "# Make a figure with one row and three columns\n",
      "fig, (ax1, ax2, ax3) = plt.subplots(1, 3)\n",
      "\n",
      "# Use different bin size in each axis:\n",
      "for ax, inter, yl in [(ax1, 'bilinear', True), (ax2, 'bicubic', False), (ax3, 'nearest', False)]:\n",
      "    plot_two_speed(flank_lens, \"Interpolation: %s\" % inter,\n",
      "                   interpolation=inter, b=50, vmax=85, cmap='jet', ax=ax,\n",
      "                   ylab=yl);"
     ],
     "language": "python",
     "metadata": {},
     "outputs": []
    },
    {
     "cell_type": "heading",
     "level": 2,
     "metadata": {},
     "source": [
      "Plotting RxLR and CRN locations"
     ]
    },
    {
     "cell_type": "markdown",
     "metadata": {},
     "source": [
      "Using the supplementary information files from the *Nature* paper, create two new dataframes, one for each effector class"
     ]
    },
    {
     "cell_type": "code",
     "collapsed": false,
     "input": [
      "# Load in the full Excel spreadsheet\n",
      "xl = pd.ExcelFile(\"nature08358-s5.xls\")\n",
      "rxlr_data = xl.parse(\"Phyt.RxLR.summary\")\n",
      "xl = pd.ExcelFile(\"nature08358-s8.xls\")\n",
      "crn_data = xl.parse(\"Crinkler_annotations.v3.txt\")\n",
      "\n",
      "# Restrict to feature names\n",
      "rxlr_names = rxlr_data.Acc\n",
      "crn_names = crn_data.locus\n",
      "\n",
      "# Restrict flanking region length data to each effector type\n",
      "rxlr_flanks = flank_lens[flank_lens.ft_name.isin(rxlr_names)]\n",
      "rxlr_flanks.index = range(len(rxlr_flanks))\n",
      "crn_flanks = flank_lens[flank_lens.ft_name.isin(crn_names)]\n",
      "crn_flanks.index = range(len(crn_flanks))"
     ],
     "language": "python",
     "metadata": {},
     "outputs": []
    },
    {
     "cell_type": "markdown",
     "metadata": {},
     "source": [
      "Check that the subset of flanking lengths looks sensible:"
     ]
    },
    {
     "cell_type": "code",
     "collapsed": false,
     "input": [
      "rxlr_flanks.head()"
     ],
     "language": "python",
     "metadata": {},
     "outputs": []
    },
    {
     "cell_type": "code",
     "collapsed": false,
     "input": [
      "crn_flanks.head()"
     ],
     "language": "python",
     "metadata": {},
     "outputs": []
    },
    {
     "cell_type": "markdown",
     "metadata": {},
     "source": [
      "Plot the 2D histogram for each of the effector types, and overlay a scatterplot of the effector flanking region lengths:"
     ]
    },
    {
     "cell_type": "code",
     "collapsed": false,
     "input": [
      "plot_two_speed(flank_lens, \"RxLR flanking regions overlay\", b=50, vmax=85)\n",
      "scatter(log2(rxlr_flanks.upstream), log2(rxlr_flanks.downstream), c='r', alpha=0.5);"
     ],
     "language": "python",
     "metadata": {},
     "outputs": []
    },
    {
     "cell_type": "code",
     "collapsed": false,
     "input": [
      "plot_two_speed(flank_lens, \"CRN flanking regions overlay\", b=50, vmax=85)\n",
      "scatter(log2(crn_flanks.upstream), log2(crn_flanks.downstream), c='r', alpha=0.5);"
     ],
     "language": "python",
     "metadata": {},
     "outputs": []
    },
    {
     "cell_type": "markdown",
     "metadata": {},
     "source": [
      "Looking at the 2D histograms for each effector type:"
     ]
    },
    {
     "cell_type": "code",
     "collapsed": false,
     "input": [
      "plot_two_speed(rxlr_flanks, \"RxLR flanking regions\", b=55, vmax=16, cmap='jet')"
     ],
     "language": "python",
     "metadata": {},
     "outputs": []
    },
    {
     "cell_type": "code",
     "collapsed": false,
     "input": [
      "plot_two_speed(crn_flanks, \"CRN flanking regions\", b=55, vmax=16, cmap='jet')"
     ],
     "language": "python",
     "metadata": {},
     "outputs": []
    },
    {
     "cell_type": "code",
     "collapsed": false,
     "input": [],
     "language": "python",
     "metadata": {},
     "outputs": []
    }
   ],
   "metadata": {}
  }
 ]
}