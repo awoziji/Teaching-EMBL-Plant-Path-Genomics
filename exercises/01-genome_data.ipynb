{
 "cells": [
  {
   "cell_type": "markdown",
   "metadata": {},
   "source": [
    "# Example 01 - Obtaining genome data with `Biopython` and `Entrez` <img src=\"images/JHI_STRAP_Web.png\" style=\"width: 150px; float: right;\">"
   ]
  },
  {
   "cell_type": "markdown",
   "metadata": {},
   "source": [
    "## Introduction\n",
    "\n",
    "In this exercise, you will use [`Biopython`](http://biopython.org/) to download pathogen genome data from [`NCBI`](http://www.ncbi.nlm.nih.gov/) programmatically. \n",
    "\n",
    "It is possible to obtain the same data by point-and-click from a browser, or at the terminal using a program like `wget`, but being able to script data downloads has some advantages, such as:\n",
    "\n",
    "* automation\n",
    "* reproducibility\n",
    "* self-documentation\n",
    "* future adaptability\n",
    "* linked searches\n",
    "\n",
    "**Note: large data sets**: if you wish to download large datasets, then using `wget`, `ftp` or other methods is better than programmatic acess *via* `Entrez`.\n",
    "\n",
    "This Jupyter notebook provides some examples of scripting genome downloads from `NCBI` singly, and in larger quantities. This method of obtaining genome data uses the `Entrez` interface that NCBI provides for automated querying of its data."
   ]
  },
  {
   "cell_type": "markdown",
   "metadata": {},
   "source": [
    "### Online documentation\n",
    "\n",
    "* `Biopython` tutorial for `Entrez`: [http://biopython.org/DIST/docs/tutorial/Tutorial.html#htoc109](http://biopython.org/DIST/docs/tutorial/Tutorial.html#htoc109)\n",
    "* `Biopython` technical documentation for `Bio.Entrez`: [http://biopython.org/DIST/docs/api/Bio.Entrez-module.html](http://biopython.org/DIST/docs/api/Bio.Entrez-module.html)\n",
    "* `Entrez` introductory documentation at `NCBI`: [http://www.ncbi.nlm.nih.gov/books/NBK25497/](http://www.ncbi.nlm.nih.gov/books/NBK25497/)"
   ]
  },
  {
   "cell_type": "markdown",
   "metadata": {},
   "source": [
    "## `Entrez`\n",
    "\n",
    "`Entrez` is the name `NCBI` give to the tools they provide as a computational interface to the data they hold across their genomic and other databases (e.g. `PubMed`). Most programs that interact with `NCBI` (GenBank/RefSeq) data will be using this set of tools.\n",
    "\n",
    "### Caveats\n",
    "\n",
    "It is possible to over-use `Entrez`. If this happens, you or your IP address may be blacklisted. In order to avoid this, you should keep to the following guidelines:\n",
    "\n",
    "* Make no more than three URL requests per second\n",
    "* Make large queries outwith the hours of 0900-1700 EST (1400-2200 GMT)\n",
    "* Provide your email address as an identifier when querying\n",
    "\n",
    "Programming libraries, such as `Biopython`'s `Entrez` module, will usually help you stay within those guidelines by limiting the frequency of queries, and insisting that you provide an email address."
   ]
  },
  {
   "cell_type": "markdown",
   "metadata": {},
   "source": [
    "## `Biopython` and `Bio.Entrez`\n",
    "\n",
    "[`Biopython`](http://biopython.org/) is a widely-used library, providing bioinformatics tools for the popular [Python](https://www.python.org/) programming language. Similar libraries exist for other programming languages.\n",
    "\n",
    "`Bio.Entrez` is a module of `Biopython` that is concerned directly with making queries against the `NCBI` databases."
   ]
  },
  {
   "cell_type": "markdown",
   "metadata": {},
   "source": [
    "## Running cells in this notebook\n",
    "\n",
    "This is an interactive notebook, which means you are able to run the code that is written in each of the cells.\n",
    "\n",
    "To run the code in a cell, you should:\n",
    "\n",
    "1. Place your mouse cursor in the cell, and click (this gives the cell *focus*) to make it active\n",
    "2. Hold down the `Shift` key, and press the `Return` key.\n",
    "\n",
    "If this is successful, you should see the input marker to the left of the cell change from\n",
    "\n",
    "```\n",
    "In [ ]:\n",
    "```\n",
    "\n",
    "to (for example)\n",
    "\n",
    "```\n",
    "In [1]:\n",
    "```\n",
    "\n",
    "and you may see output appear below the cell."
   ]
  },
  {
   "cell_type": "markdown",
   "metadata": {},
   "source": [
    "## 1. Connecting to `NCBI`\n",
    "\n",
    "In order to use the `Bio.Entrez` module, you need to *import* it. This is how modules become available for use in Python.\n",
    "\n",
    "It is good practice at this point to specify your email, so that `NCBI` can contact you in case of problems (or if you are likely to become blacklisted).\n",
    "\n",
    "It is also good practice to specify a 'tool' that is the script making the call."
   ]
  },
  {
   "cell_type": "code",
   "execution_count": null,
   "metadata": {
    "collapsed": true
   },
   "outputs": [],
   "source": [
    "# This line imports the Bio.Entrez module, and makes it available\n",
    "# as 'Entrez'.\n",
    "from Bio import Entrez\n",
    "\n",
    "# This line sets the variable 'Entrez.email' to the specified\n",
    "# email address. You should substitute your own address for the\n",
    "# example address provided below. Please do not provide a\n",
    "# fake name.\n",
    "Entrez.email = \"Fakey.McFakename@example.com\"\n",
    "\n",
    "# This line sets the name of the tool that is making the queries\n",
    "Entrez.tool = \"01-genome_data.ipynb\""
   ]
  },
  {
   "cell_type": "markdown",
   "metadata": {},
   "source": [
    "## 2. Using `Bio.Entrez` to list available databases\n",
    "\n",
    "When you send a query or request to `NCBI` using `Bio.Entrez`, the remote service will send back data in [XML](https://en.wikipedia.org/wiki/XML) format. This is a file format designed to be easy for computers to read, but is very verbose and difficult to read for humans.\n",
    "\n",
    "The `Bio.Entrez` module can `read()` this data so that you can extract useful information.\n",
    "\n",
    "In the example below, you will ask `NCBI` for a list of the databases you can search by using the `Entrez.einfo()` function. This will return a *handle* containing the XML response from `NCBI`. This will be *read* into a record that you can inspect and manipulate, by the `Entrez.read()` function."
   ]
  },
  {
   "cell_type": "code",
   "execution_count": null,
   "metadata": {
    "collapsed": true
   },
   "outputs": [],
   "source": [
    "# The line below uses the Entrez.einfo() function to\n",
    "# ask NCBI what databases are available. The result is\n",
    "# 'stored' in a variable called 'handle'\n",
    "handle = Entrez.einfo()\n",
    "\n",
    "# In the line below, the response from NCBI is read\n",
    "# into a record, that organises NCBI's response into\n",
    "# something you can work with.\n",
    "record = Entrez.read(handle)"
   ]
  },
  {
   "cell_type": "markdown",
   "metadata": {},
   "source": [
    "The variable `record` contains a list of the available databases at `NCBI`, which you can see by executing the cell below:"
   ]
  },
  {
   "cell_type": "code",
   "execution_count": null,
   "metadata": {
    "collapsed": false
   },
   "outputs": [],
   "source": [
    "print(record[\"DbList\"])"
   ]
  },
  {
   "cell_type": "markdown",
   "metadata": {},
   "source": [
    "You may recognise some of the database names, such as `pubmed`, `nuccore`, `assembly`, `sra`, and `taxonomy`.\n",
    "\n",
    "`Entrez` allows you to query these databases in much the same way that you just obtained the list of databases."
   ]
  },
  {
   "cell_type": "markdown",
   "metadata": {},
   "source": [
    "## 3. Using `Bio.Entrez` to find genome assemblies at `NCBI`\n",
    "\n",
    "In the cells below, you will use `Bio.Entrez` to identify assemblies for the bacterial plant pathogen *Ralstonia solanacearum*.\n",
    "\n",
    "We are interested in genome data, so will query against the [`assembly`](http://www.ncbi.nlm.nih.gov/assembly) database at `NCBI`. This contains all genome assemblies, whether complete or draft.\n",
    "\n",
    "We are interested in *Ralstonia solanacearum*, so will search against the `assembly` database with this text as a query. The function that allows us to do this is `Entrez.esearch()`. By default, searches are limited to 20 results (as on the `NCBI` webpage), but we can change this."
   ]
  },
  {
   "cell_type": "code",
   "execution_count": null,
   "metadata": {
    "collapsed": true
   },
   "outputs": [],
   "source": [
    "# The line below carries out a search of the `assembly` database at NCBI,\n",
    "# using the phrase `Ralstonia solanacearum` as the search query,\n",
    "# and asks NCBI to return up to the first 100 results\n",
    "handle = Entrez.esearch(db=\"assembly\", term=\"Ralstonia solanacearum\", retmax=100)\n",
    "\n",
    "# This line converts the returned information from NCBI into a form we\n",
    "# can use, as before.\n",
    "record = Entrez.read(handle)"
   ]
  },
  {
   "cell_type": "markdown",
   "metadata": {},
   "source": [
    "The returned information can be viewed by running the cell below.\n",
    "\n",
    "It may look confusing at first, but it simply describes the database identifiers that uniquely identify the assemblies present in the `assembly` database that correspond to the query we made, and a few other pieces of information that we do not need, right now."
   ]
  },
  {
   "cell_type": "code",
   "execution_count": null,
   "metadata": {
    "collapsed": false
   },
   "outputs": [],
   "source": [
    "# This line prints the downloaded information from NCBI, so\n",
    "# we can read it.\n",
    "print(record)"
   ]
  },
  {
   "cell_type": "markdown",
   "metadata": {},
   "source": [
    "For now, we are interested in the list of database identifiers, in `record['IdList']`. We will use these to get information from the `assembly` database.\n",
    "\n",
    "We will look at a single record first, and then consider how to get all the *Ralstonia* genomes at the same time."
   ]
  },
  {
   "cell_type": "markdown",
   "metadata": {},
   "source": [
    "## 4. Downloading a single genome from `NCBI`\n",
    "\n",
    "In this section, you will use one of the database identifiers returned from your search at `NCBI` to identify and download a single GenBank genome record corresponding to *Ralstonia solanacearum*.\n",
    "\n",
    "To do this, we will select a single accession from the list in `record[\"IdList\"]` in the cell below"
   ]
  },
  {
   "cell_type": "code",
   "execution_count": null,
   "metadata": {
    "collapsed": false
   },
   "outputs": [],
   "source": [
    "# The line below takes the first value in the list of \n",
    "# database accessions record[\"IdList\"], and places it in\n",
    "# the variable 'accession'\n",
    "accession = record[\"IdList\"][0]\n",
    "\n",
    "# Show the contents of the variable 'accession'\n",
    "print(accession)"
   ]
  },
  {
   "cell_type": "markdown",
   "metadata": {},
   "source": [
    "There is a complicating factor here. Assemblies may not be complete, and could comprise several contigs, or a chromosome and several extrachromosomal elements. These are stored independently in a different database, `nuccore`, and each have individual accessions. We need to *link* the `assembly` accession to each of the `nucleotide` accessions.\n",
    "\n",
    "This is a common requirement when querying `NCBI` databases, and is achieved using the `Entrez.elink()` function.\n",
    "\n",
    "We need to specify the database for which we have the accession (or `UID`), and which database we want to query for related records (in this case, `nucleotide`)."
   ]
  },
  {
   "cell_type": "code",
   "execution_count": null,
   "metadata": {
    "collapsed": false
   },
   "outputs": [],
   "source": [
    "# The line below requests the identifiers (UIDs) for all\n",
    "# records in the `nucleotide` database that correspond to the\n",
    "# assembly UID that is stored in the variable 'accession'\n",
    "handle = Entrez.elink(dbfrom=\"assembly\", db=\"nucleotide\",\n",
    "                     from_uid=accession)\n",
    "\n",
    "# We place the downloaded information in the variable 'links'\n",
    "links = Entrez.read(handle)"
   ]
  },
  {
   "cell_type": "markdown",
   "metadata": {},
   "source": [
    "The `links` variable may contain links to more than one version of the genome (`NCBI` keep third-party managed genome data in GenBank/INSDC records, and `NCBI`-'owned' data in RefSeq records). \n",
    "\n",
    "The function below extracts only the INSDC information from the `Elink()` query. It is ***not*** important that you understand the code."
   ]
  },
  {
   "cell_type": "code",
   "execution_count": null,
   "metadata": {
    "collapsed": true
   },
   "outputs": [],
   "source": [
    "# The code below provides a function that extracts nucleotide\n",
    "# database accessions for INSDC data from the result of an\n",
    "# Entrez.elink() query.\n",
    "def extract_insdc(links):\n",
    "    \"\"\"Returns the link UIDs for RefSeq entries, from the\n",
    "    passed Elink search results\"\"\"\n",
    "    linkset = [ls for ls in links[0]['LinkSetDb'] if\n",
    "              ls['LinkName'] == 'assembly_nuccore_insdc']\n",
    "    if 0 == len(linkset):\n",
    "        raise ValueError(\"Elink() output has no assembly_nuccore_insdc data\")\n",
    "    uids = [i['Id'] for i in linkset[0]['Link']]\n",
    "    return uids"
   ]
  },
  {
   "cell_type": "markdown",
   "metadata": {},
   "source": [
    "You will use the `extract_insdc()` function to get the accession IDs for the sequences in this *Ralstonia solanacearum* genome, in the cell below."
   ]
  },
  {
   "cell_type": "code",
   "execution_count": null,
   "metadata": {
    "collapsed": false
   },
   "outputs": [],
   "source": [
    "# The line below uses the extract_insdc() function to get INSDC/GenBank\n",
    "# accession UIDs for the components of the genome/assembly referred to\n",
    "# in the 'links' variable. These will be stored in the variable\n",
    "# 'nuc_uids'\n",
    "nuc_uids = extract_insdc(links)\n",
    "\n",
    "# Show the contents of 'nuc_uids'\n",
    "print(nuc_uids)"
   ]
  },
  {
   "cell_type": "markdown",
   "metadata": {},
   "source": [
    "Now we have accession UIDs for the nucleotide sequences of the assembly, you will use `Entrez.efetch` as before to *fetch*  each sequence record from NCBI.\n",
    "\n",
    "We need to tell `NCBI` which database we want to use (in this case, `nucleotide`), and the identifiers for the records (the values in `nuc_uids`). To get all the data at the same time, we can join the accession ids into a single string, with commas to separate the individual UIDs.\n",
    "\n",
    "We will also tell `NCBI` two further pieces of information:\n",
    "\n",
    "1. The format we want the data returned in. We will ask for full GenBank format (`fasta`).\n",
    "2. How we want the data returned. We will ask for plain text (`text`)."
   ]
  },
  {
   "cell_type": "code",
   "execution_count": null,
   "metadata": {
    "collapsed": false
   },
   "outputs": [],
   "source": [
    "# The line below retrieves (fetches) the GenBank FASTA record for\n",
    "# the each database entry specified in `nuc_uids`, in plain text\n",
    "# format.\n",
    "handle = Entrez.efetch(db=\"nucleotide\", rettype=\"fasta\", retmode=\"text\",\n",
    "                      id=\",\".join(nuc_uids))"
   ]
  },
  {
   "cell_type": "markdown",
   "metadata": {
    "collapsed": false
   },
   "source": [
    "### Reading sequence data with `Biopython`\n",
    "\n",
    "To convert the sequences to a usable form, then write them to a file, we can use `Biopython`'s [`SeqIO`](http://biopython.org/wiki/SeqIO) module, which is the standard biological sequence reading/witing interface in Python.\n",
    "\n",
    "In the cell below, you will *parse* the `NCBI` output into usable [`SeqRecord`](http://biopython.org/wiki/SeqRecord) objects."
   ]
  },
  {
   "cell_type": "code",
   "execution_count": null,
   "metadata": {
    "collapsed": true
   },
   "outputs": [],
   "source": [
    "# This line imports the SeqIO module, so we can read and write\n",
    "# sequences\n",
    "from Bio import SeqIO\n",
    "\n",
    "# The line below converts the NCBI output into Biopython's \n",
    "# SeqRecord representation of sequence data, and stores the\n",
    "# results in the variable 'seqdata'\n",
    "seqdata = list(SeqIO.parse(handle, 'fasta'))"
   ]
  },
  {
   "cell_type": "markdown",
   "metadata": {},
   "source": [
    "In the cell below, you can see that each sequence in the *Ralstonia solanacearum* assembly has been downloaded"
   ]
  },
  {
   "cell_type": "code",
   "execution_count": null,
   "metadata": {
    "collapsed": false
   },
   "outputs": [],
   "source": [
    "# Show the contents of 'seqdata'\n",
    "for s in seqdata:\n",
    "    print(s)"
   ]
  },
  {
   "cell_type": "markdown",
   "metadata": {
    "collapsed": true
   },
   "source": [
    "### Writing sequence data with `Biopython`\n",
    "\n",
    "The `SeqIO` module can also be used to write sequence data out to a file on your local hard drive. You will do this in the cell below, using the `SeqIO.write()` function."
   ]
  },
  {
   "cell_type": "code",
   "execution_count": null,
   "metadata": {
    "collapsed": false
   },
   "outputs": [],
   "source": [
    "# The line below writes the sequence data in 'seqdata' to\n",
    "# the local file \"data/ralstonia.fasta\", in FASTA format.\n",
    "# The function returns the number of sequences that were written to file\n",
    "SeqIO.write(seqdata, \"data/ralstonia.fasta\", \"fasta\")"
   ]
  },
  {
   "cell_type": "code",
   "execution_count": null,
   "metadata": {
    "collapsed": true
   },
   "outputs": [],
   "source": []
  }
 ],
 "metadata": {
  "kernelspec": {
   "display_name": "Python 3",
   "language": "python",
   "name": "python3"
  },
  "language_info": {
   "codemirror_mode": {
    "name": "ipython",
    "version": 3
   },
   "file_extension": ".py",
   "mimetype": "text/x-python",
   "name": "python",
   "nbconvert_exporter": "python",
   "pygments_lexer": "ipython3",
   "version": "3.5.1"
  }
 },
 "nbformat": 4,
 "nbformat_minor": 0
}
