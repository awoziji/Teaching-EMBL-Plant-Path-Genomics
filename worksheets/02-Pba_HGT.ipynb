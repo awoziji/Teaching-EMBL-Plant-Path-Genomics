{
 "cells": [
  {
   "cell_type": "markdown",
   "metadata": {},
   "source": [
    "# Worksheet 02 - Horizontal gene transfer of a pathogenicity island in *Pectobacterium atrosepticum* <img src=\"images/JHI_STRAP_Web.png\" style=\"width: 150px; float: right;\">"
   ]
  },
  {
   "cell_type": "markdown",
   "metadata": {},
   "source": [
    "## Introduction\n",
    "\n",
    "In this exercise, you will use `BLAST+` at the terminal to compare the nucleotide sequences of three complete bacterial pathogen genomes. You will use the `ACT` software to visualise the results of these comparisons, and identify a region of putative horizontal gene transfer."
   ]
  },
  {
   "cell_type": "markdown",
   "metadata": {},
   "source": [
    "### Related publications\n",
    "\n",
    "* "
   ]
  },
  {
   "cell_type": "markdown",
   "metadata": {},
   "source": [
    "### Requirements\n",
    "\n",
    "<div class=\"alert alert-success\">\n",
    "To complete this worksheet, you will need the following software:\n",
    "<ul>\n",
    "<li><b>`BLAST+`</b>: the standard biological sequence search tool\n",
    "<li><b>`ACT`</b>, the <i>Artemis Comparison Tool</i>: a software package for visualisation of genome comparisons\n",
    "</ul>\n",
    "</div>"
   ]
  },
  {
   "cell_type": "code",
   "execution_count": null,
   "metadata": {
    "collapsed": true
   },
   "outputs": [],
   "source": []
  }
 ],
 "metadata": {
  "kernelspec": {
   "display_name": "Python 3",
   "language": "python",
   "name": "python3"
  },
  "language_info": {
   "codemirror_mode": {
    "name": "ipython",
    "version": 3
   },
   "file_extension": ".py",
   "mimetype": "text/x-python",
   "name": "python",
   "nbconvert_exporter": "python",
   "pygments_lexer": "ipython3",
   "version": "3.5.1"
  }
 },
 "nbformat": 4,
 "nbformat_minor": 0
}
