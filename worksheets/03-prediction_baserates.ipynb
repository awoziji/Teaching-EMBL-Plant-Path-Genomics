{
 "cells": [
  {
   "cell_type": "markdown",
   "metadata": {},
   "source": [
    "# Worksheet 03 - Effector Prediction and The Baserate Fallacy <img src=\"images/JHI_STRAP_Web.png\" style=\"width: 150px; float: right;\">"
   ]
  },
  {
   "cell_type": "markdown",
   "metadata": {},
   "source": [
    "## Introduction\n",
    "\n",
    "In this worksheet, we will explore the [*Baserate Fallacy*](https://en.wikipedia.org/wiki/Base_rate_fallacy) and its importance in making functional predictions, or performing any other kind of (binary yes/no) classification.\n",
    "\n",
    "This provides an interactive example to demonstrate the variation in effector class (or any other binary) prediction accuracy as the following factors vary:\n",
    "\n",
    "* The performance of the prediction method (in particular, its sensitivity and false positive rate)\n",
    "* Base rate of occurrence of positive examples in the population being tested (e.g. the proportion of effectors in the predicted proteome)"
   ]
  },
  {
   "cell_type": "markdown",
   "metadata": {},
   "source": [
    "### Related online documentation\n",
    "\n",
    "* BBC News \"A Scanner to Detect Terrorists\": [http://news.bbc.co.uk/1/hi/magazine/8153539.stm](http://news.bbc.co.uk/1/hi/magazine/8153539.stm)\n",
    "* Wikipedia entry \"Base rate fallacy\": [https://en.wikipedia.org/wiki/Base_rate_fallacy](https://en.wikipedia.org/wiki/Base_rate_fallacy)\n",
    "* Statistics done wrong: [http://www.statisticsdonewrong.com/p-value.html](http://www.statisticsdonewrong.com/p-value.html)\n",
    "* Bayes' Theorem: [http://www.trinity.edu/cbrown/bayesweb/](http://www.trinity.edu/cbrown/bayesweb/)\n",
    "* \"Bayes' Theorem explained like you're five\" (video): [https://www.youtube.com/watch?v=2Df1sDAyRvQ](https://www.youtube.com/watch?v=2Df1sDAyRvQ)\n",
    "\n",
    "**References**\n",
    "\n",
    "* Arnold *et al.* (2009) *PLoS Pathog.* doi:10.1371/journal.ppat.1000376 : [http://dx.doi.org/10.1371/journal.ppat.1000376](http://dx.doi.org/10.1371/journal.ppat.1000376)\n",
    "* Pritchard & Broadhurst (2014) *Methods Mol. Biol.* doi:10.1007/978-1-62703-986-4_4: [http://dx.doi.org/10.1007/978-1-62703-986-4_4](10.1007/978-1-62703-986-4_4)"
   ]
  },
  {
   "cell_type": "markdown",
   "metadata": {},
   "source": [
    "## Theory, and Python functions"
   ]
  },
  {
   "cell_type": "markdown",
   "metadata": {},
   "source": [
    "The code below defines two functions. The first, `p_correct_given_pos`, calculates the probability that, given that a (binary) classifier prediction is 'positive', the item being classified is truly 'positive', using Bayes' Theorem. \n",
    "\n",
    "We can call a member of the 'positive' class $\\text{pos}$ (so 'negative's are $\\overline{\\text{pos}}$), and a positive prediction $\\text{+ve}$. Then, the base rate of 'positive' class members is $P(\\text{pos})$, the sensitivity of the test is $P(\\text{+ve}|\\text{pos})$, and the FPR is $1-P(\\text{+ve}|\\overline{\\text{pos}})$.\n",
    "\n",
    "The probability that if the test/classifier has a positive result, the item being classified is 'positive' ($P(\\text{pos}|\\text{+ve})$), is then given by Bayes' Theorem:\n",
    "\n",
    "$$P(\\text{pos}|\\text{+ve}) = \\frac{P(\\text{+ve}|\\text{pos})P(\\text{pos})}{P(\\text{+ve}|\\text{pos})P(\\text{pos}) + P(\\text{+ve}|\\overline{\\text{pos}})P(\\overline{\\text{pos}})}$$\n",
    "\n",
    "The second function, `plot_prob_effector`, renders a line graph of the expected value of $P(\\text{pos}|\\text{+ve})$ against the base rate of positive examples in the dataset being classified."
   ]
  },
  {
   "cell_type": "code",
   "execution_count": null,
   "metadata": {
    "collapsed": false
   },
   "outputs": [],
   "source": [
    "%pylab inline\n",
    "# The magic above lets us plot directly within the notebook.\n",
    "\n",
    "# for interactive widgets, requires iPython notebook v2\n",
    "from ipywidgets import interact  "
   ]
  },
  {
   "cell_type": "code",
   "execution_count": null,
   "metadata": {
    "collapsed": true
   },
   "outputs": [],
   "source": [
    "def p_correct_given_pos(sens, fpr, b):\n",
    "    \"\"\" Returns a simple Bayesian probability for the probability\n",
    "        that a prediction is correct, given that the prediction\n",
    "        was positive, given the prevailing sensitivity (sens),\n",
    "        false positive rate (fpr) and base rate of positive \n",
    "        examples.\n",
    "    \"\"\"\n",
    "    assert 0 <= sens <= 1, \"Sensitivity must be in range [0,1]\"\n",
    "    assert 0 <= fpr <= 1, \"FPR must be in range [0,1]\"\n",
    "    return sens * b / (sens * b + fpr * (1 - b))\n",
    "    "
   ]
  },
  {
   "cell_type": "code",
   "execution_count": null,
   "metadata": {
    "collapsed": false
   },
   "outputs": [],
   "source": [
    "def plot_prob_effector(sens, fpr, xmax=1, baserate=0.1):\n",
    "    \"\"\" Plots a line graph of P(effector|positive test) against\n",
    "        the baserate of effectors in the input set to the classifier.\n",
    "        \n",
    "        The baserate argument draws an annotation arrow\n",
    "        indicating P(pos|+ve) at that baserate\n",
    "    \"\"\"\n",
    "    assert 0.1 <= xmax <= 1, \"Max x axis value must be in range [0,1]\"\n",
    "    assert 0.01 <= baserate <= 1, \"Baserate annotation must be in range [0,1]\"\n",
    "    baserates = arange(0, 1.05, xmax * 0.005)  # Range of positive example base rate\n",
    "    probs = [p_correct_given_pos(sens, fpr, b) for b in baserates]\n",
    "    plot(baserates, probs, 'r')\n",
    "    title(\"P(eff|pos) vs baserate; sens: %.2f, fpr: %.2f\" % (sens, fpr))\n",
    "    ylabel(\"P(effector|positive)\")\n",
    "    xlabel(\"effector baserate\")\n",
    "    xlim(0, xmax)\n",
    "    ylim(0, 1)\n",
    "    # Add annotation arrow\n",
    "    xpos, ypos = (baserate, p_correct_given_pos(sens, fpr, baserate))\n",
    "    if baserate < xmax:\n",
    "        if xpos > 0.7 * xmax:\n",
    "            xtextpos = 0.05 * xmax\n",
    "        else:\n",
    "            xtextpos = xpos + (xmax-xpos)/5.\n",
    "        if ypos > 0.5:\n",
    "            ytextpos = ypos - 0.05\n",
    "        else:\n",
    "            ytextpos = ypos + 0.05\n",
    "        annotate('baserate: %.2f, P(pos|+ve): %.3f' % (xpos, ypos), \n",
    "                 xy=(xpos, ypos), \n",
    "                 xytext=(xtextpos, ytextpos),\n",
    "                 arrowprops=dict(facecolor='black', shrink=0.05))\n",
    "    else:\n",
    "        text(0.05 * xmax, 0.95, 'baserate: %.2f, P(pos|+ve): %.3f' % (xpos, ypos))"
   ]
  },
  {
   "cell_type": "markdown",
   "metadata": {},
   "source": [
    "## Single Plot Example"
   ]
  },
  {
   "cell_type": "markdown",
   "metadata": {},
   "source": [
    "The example below uses the `plot_prob_effector` function to plot a curve of the expected value of $P(\\text{effector}|\\text{+ve})$ against baseline effector rate, with a sensitivity of 0.95, and false positive rate of 0.05. These values would be exceptionally good for a real-life effector classifier."
   ]
  },
  {
   "cell_type": "code",
   "execution_count": null,
   "metadata": {
    "collapsed": false
   },
   "outputs": [],
   "source": [
    "plot_prob_effector(0.95, 0.05, baserate=0.3)"
   ]
  },
  {
   "cell_type": "markdown",
   "metadata": {},
   "source": [
    "As can be seen from the curve above, a test like this performs very well, such that $P(\\text{pos}|\\text{+ve}) > 0.8$ for the majority of baseline effector rates - specifically all rates above around 20%.\n",
    "\n",
    "However, a typical effector class constitutes 3% or less of the total CDS complement of any pathogen, so a test like this would actually be expected to have $P(\\text{pos}|\\text{+ve}) \\approx 0.2$ or lower if applied to a complete pathogen genome CDS complement.\n",
    "\n",
    "One approach to improve predictive performance in practice is to *stratify* the data to which the classifier is applied. That is, if there are criteria that are necessary for membership of the effector class (e.g. presence of a signal peptide, or characteristic regulatory sequence), these can be used to exclude a large proportion of the genome, and effectively increase the base rate of effectors *with respect to the set of sequences passed to the classifier*."
   ]
  },
  {
   "cell_type": "markdown",
   "metadata": {},
   "source": [
    "## Interactive Example"
   ]
  },
  {
   "cell_type": "markdown",
   "metadata": {},
   "source": [
    "The interactive example below allows you to choose the sensitivity (`sens`) and false positive rate (`fpr`) for the effector classifier, and renders a plot of expected $P(\\text{pos}|\\text{+ve})$ against base rate of effectors in the input set to the classifier.\n",
    "\n",
    "By setting the value of `xmax` appropriately, you can zoom in to values for low base rates of effector occurrence."
   ]
  },
  {
   "cell_type": "code",
   "execution_count": null,
   "metadata": {
    "collapsed": false
   },
   "outputs": [],
   "source": [
    "# To see the curve for the T3E prediction method shown in the\n",
    "# slides, set sens=0.71, fpr=0.15\n",
    "interact(plot_prob_effector, sens=(0.01, 0.99, 0.01), \n",
    "         fpr=(0.01, 0.99, 0.01), xmax=(0.1, 1, 0.01),\n",
    "         baserate=(0.01, 0.99, 0.01));"
   ]
  },
  {
   "cell_type": "code",
   "execution_count": null,
   "metadata": {
    "collapsed": false
   },
   "outputs": [],
   "source": []
  }
 ],
 "metadata": {
  "kernelspec": {
   "display_name": "Python 2",
   "language": "python",
   "name": "python2"
  },
  "language_info": {
   "codemirror_mode": {
    "name": "ipython",
    "version": 2
   },
   "file_extension": ".py",
   "mimetype": "text/x-python",
   "name": "python",
   "nbconvert_exporter": "python",
   "pygments_lexer": "ipython2",
   "version": "2.7.11"
  }
 },
 "nbformat": 4,
 "nbformat_minor": 0
}
