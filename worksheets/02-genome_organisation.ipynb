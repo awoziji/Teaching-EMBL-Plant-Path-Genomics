{
 "cells": [
  {
   "cell_type": "markdown",
   "metadata": {},
   "source": [
    "# Worksheet 02 - Horizontal gene transfer of a pathogenicity island in *Pectobacterium atrosepticum* <img src=\"images/JHI_STRAP_Web.png\" style=\"width: 150px; float: right;\">"
   ]
  },
  {
   "cell_type": "markdown",
   "metadata": {},
   "source": [
    "## Introduction\n",
    "\n",
    "In this exercise, you will use `BLAST+` at the terminal to compare the nucleotide sequences of three complete bacterial pathogen genomes. You will use the `ACT` software to visualise the results of these comparisons, and identify a region of putative horizontal gene transfer.\n",
    "\n",
    "The three genomes are:\n",
    "\n",
    "* *Dickeya zeae* Ech586 (GCF_000025065.1_ASM2506v1)\n",
    "* *Pectobacterium atrosepticum* SCRI1043 (GCF_000011605.1_ASM1160v1)\n",
    "* *Pseudomonas syringae* DC3000 (GCF_000007805.1_ASM780v1)\n",
    "* *Yersinia pestis* KIM10+ (GCF_000007805.1_ASM780v1)\n",
    "* *Salmonella enterica* Typhi CT18 (GCF_000195995.1_ASM19599v1)\n",
    "\n",
    "and the region of focus is the *Salmonella* pathogenicity island SPI-7, which has been co-opted from the human pathogen *S. enterica* Typhi in *P. atrosepticum* to deliver a variant of the coronafacic acid phytotoxin, which is a component of *P. syringae* virulence."
   ]
  },
  {
   "cell_type": "markdown",
   "metadata": {},
   "source": [
    "### Related publications\n",
    "\n",
    "* Toth IK, Pritchard L, Birch PRJ. 2006. Comparative genomics reveals what makes an enterobacterial plant pathogen. *Annu Rev Phytopathol* **44**:305–336. [doi:10.1146/annurev.phyto.44.070505.143444](http://dx.doi.org/10.1146/annurev.phyto.44.070505.143444)"
   ]
  },
  {
   "cell_type": "markdown",
   "metadata": {},
   "source": [
    "### Requirements\n",
    "\n",
    "<div class=\"alert alert-success\">\n",
    "To complete this worksheet, you will need the following software:\n",
    "<ul>\n",
    "<li><b>`BLAST+`</b>: the standard biological sequence search tool\n",
    "<li><b>`ACT`</b>, the <i>Artemis Comparison Tool</i>: a software package for visualisation of genome comparisons\n",
    "</ul>\n",
    "</div>"
   ]
  },
  {
   "cell_type": "markdown",
   "metadata": {},
   "source": [
    "## Source data\n",
    "\n",
    "Three datasets were downloaded from the `NCBI` RefSeq database at `ftp://ftp.ncbi.nlm.nih.gov/genomes/refseq/bacteria`, one for each sequenced bacterial isolate. These data are located in the `02-data` subdirectory, divided into subdirectories named for each isolate:\n",
    "\n",
    "```bash\n",
    "$ tree 02-data/\n",
    "02-data/\n",
    "├── P_atrosepticum_SCRI1043\n",
    "│   ├── GCF_000011605.1_ASM1160v1_genomic.fna\n",
    "│   ├── GCF_000011605.1_ASM1160v1_genomic.gbff\n",
    "│   └── GCF_000011605.1_ASM1160v1_genomic.gff\n",
    "├── P_syringae_DC3000\n",
    "│   ├── GCF_000007805.1_ASM780v1_genomic.fna\n",
    "│   ├── GCF_000007805.1_ASM780v1_genomic.gbff\n",
    "│   └── GCF_000007805.1_ASM780v1_genomic.gff\n",
    "└── S_enterica_CT18\n",
    "    ├── GCF_000195995.1_ASM19599v1_genomic.fna\n",
    "    ├── GCF_000195995.1_ASM19599v1_genomic.gbff\n",
    "    └── GCF_000195995.1_ASM19599v1_genomic.gff\n",
    "```\n",
    "\n",
    "The three filetypes contain the following information:\n",
    "\n",
    "* `*.fna`: the chromosome sequence in FASTA format\n",
    "* `*.gbff`: GenBank format file, combining the chromosome sequence and feature annotation\n",
    "* `*.gff`: feature annotation data, in [GFF format](http://www.sequenceontology.org/gff3.shtml).\n",
    "\n",
    "<br /><div class=\"alert alert-info\">\n",
    "For more information on obtaining genome sequences from remote sites, please see the accompanying presentation `presentation.md`, and worksheet 01 (`01-genome_data.ipynb`).\n",
    "</div>"
   ]
  },
  {
   "cell_type": "code",
   "execution_count": null,
   "metadata": {
    "collapsed": true
   },
   "outputs": [],
   "source": []
  }
 ],
 "metadata": {
  "kernelspec": {
   "display_name": "Python 3",
   "language": "python",
   "name": "python3"
  },
  "language_info": {
   "codemirror_mode": {
    "name": "ipython",
    "version": 3
   },
   "file_extension": ".py",
   "mimetype": "text/x-python",
   "name": "python",
   "nbconvert_exporter": "python",
   "pygments_lexer": "ipython3",
   "version": "3.5.1"
  }
 },
 "nbformat": 4,
 "nbformat_minor": 0
}
