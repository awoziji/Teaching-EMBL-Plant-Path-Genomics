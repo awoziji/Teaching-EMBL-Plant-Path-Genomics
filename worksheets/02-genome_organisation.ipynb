{
 "cells": [
  {
   "cell_type": "markdown",
   "metadata": {},
   "source": [
    "# Worksheet 02 - Genome organisation in *Vibrio mimicus* and *Serratia symbiotica* <img src=\"images/JHI_STRAP_Web.png\" style=\"width: 150px; float: right;\">"
   ]
  },
  {
   "cell_type": "markdown",
   "metadata": {},
   "source": [
    "## Introduction\n",
    "\n",
    "In this exercise, you will use `BLAST+` at the terminal to compare the nucleotide sequences of six complete bacterial pathogen genomes (in groups of three). You will use the `ACT` software to visualise the results of these comparisons, and identify significant changes in chromosome structure associated with environmental adaptation.\n",
    "\n",
    "Three genomes are provided for each of two groups:\n",
    "\n",
    "#### *Serratia* spp.\n",
    "* *S. symbiotica* str. Tucson (GCF_000186485.1_ASM18648v1)\n",
    "* *S. proteamaculans* 568 (GCF_000018085.1_ASM1808v1)\n",
    "* *S. marcesens* FGI94 (GCF_000330865.1_ASM33086v1)\n",
    "\n",
    "#### *Vibrio* spp.\n",
    "* *V. cholerae* El Tor N16961 (GCF_000006745.1_ASM674v1)\n",
    "* *V. mimicus* MB451 (GCF_001558475.1_ASM155847v1)\n",
    "* *V. cholerae* Classical O395 ()"
   ]
  },
  {
   "cell_type": "markdown",
   "metadata": {},
   "source": [
    "### Related online documentation/publications\n",
    "\n",
    "* Burke and Moran (2011) Massive Genomic Decay in *Serratia symbiotica*, a Recently Evolved Symbiont of Aphids. *Genome Biol. Evol.* **3**:195-208 [doi:10.1093/gbe/evr002](http://dx.doi.org/10.1093/gbe/evr002)\n",
    "* Hasan *et al.* (2010) Comparative genomics of clinical and environmental Vibrio mimicus. *Proc. Natl. Acad. Sci. USA* **107**:21134-21139 [doi:10.1073/pnas.1013825107](http://dx.doi.org/10.1073/pnas.1013825107)"
   ]
  },
  {
   "cell_type": "markdown",
   "metadata": {},
   "source": [
    "### Requirements\n",
    "\n",
    "<div class=\"alert alert-success\">\n",
    "To complete this worksheet, you will need the following software:\n",
    "<ul>\n",
    "<li><b>`BLAST+`</b>: the standard biological sequence search tool\n",
    "<li><b>`ACT`</b>, the <i>Artemis Comparison Tool</i>: a software package for visualisation of genome comparisons\n",
    "</ul>\n",
    "</div>"
   ]
  },
  {
   "cell_type": "markdown",
   "metadata": {},
   "source": [
    "## Source data\n",
    "\n",
    "Three datasets were downloaded from the `NCBI` RefSeq database at `ftp://ftp.ncbi.nlm.nih.gov/genomes/refseq/bacteria`, one for each sequenced bacterial isolate. These data are located in the `02-data` subdirectory, divided into subdirectories named for each isolate:\n",
    "\n",
    "```bash\n",
    "$ tree 02-data\n",
    "02-data\n",
    "├── S_marcesens_FGI94\n",
    "│   ├── GCF_000330865.1_ASM33086v1_genomic.fna\n",
    "│   ├── GCF_000330865.1_ASM33086v1_genomic.gbff\n",
    "│   └── GCF_000330865.1_ASM33086v1_genomic.gff\n",
    "├── S_proteamaculans_568\n",
    "│   ├── GCF_000018085.1_ASM1808v1_genomic.fna\n",
    "│   ├── GCF_000018085.1_ASM1808v1_genomic.gbff\n",
    "│   └── GCF_000018085.1_ASM1808v1_genomic.gff\n",
    "├── S_symbiotica_Tucson\n",
    "│   ├── GCF_000186485.1_ASM18648v1_genomic.fna\n",
    "│   ├── GCF_000186485.1_ASM18648v1_genomic.gbff\n",
    "│   └── GCF_000186485.1_ASM18648v1_genomic.gff\n",
    "├── V_cholerae_El_Tor\n",
    "│   ├── GCF_000006745.1_ASM674v1_genomic.fna\n",
    "│   ├── GCF_000006745.1_ASM674v1_genomic.gbff\n",
    "│   └── GCF_000006745.1_ASM674v1_genomic.gff\n",
    "├── V_cholerae_O395\n",
    "│   ├── GCF_000016245.1_ASM1624v1_genomic.fna\n",
    "│   ├── GCF_000016245.1_ASM1624v1_genomic.gbff\n",
    "│   └── GCF_000016245.1_ASM1624v1_genomic.gff\n",
    "└── V_mimicus_ATCC_33654\n",
    "    ├── GCF_001558475.1_ASM155847v1_genomic.fna\n",
    "    ├── GCF_001558475.1_ASM155847v1_genomic.gbff\n",
    "    └── GCF_001558475.1_ASM155847v1_genomic.gff\n",
    "```\n",
    "\n",
    "The three filetypes contain the following information:\n",
    "\n",
    "* `*.fna`: the chromosome sequence in FASTA format\n",
    "* `*.gbff`: GenBank format file, combining the chromosome sequence and feature annotation\n",
    "* `*.gff`: feature annotation data, in [GFF format](http://www.sequenceontology.org/gff3.shtml).\n",
    "\n",
    "<br /><div class=\"alert alert-info\">\n",
    "For more information on obtaining genome sequences from remote sites, please see the accompanying presentation `presentation.md`, and worksheet 01 (`01-genome_data.ipynb`).\n",
    "</div>"
   ]
  },
  {
   "cell_type": "code",
   "execution_count": null,
   "metadata": {
    "collapsed": true
   },
   "outputs": [],
   "source": []
  }
 ],
 "metadata": {
  "kernelspec": {
   "display_name": "Python 3",
   "language": "python",
   "name": "python3"
  },
  "language_info": {
   "codemirror_mode": {
    "name": "ipython",
    "version": 3
   },
   "file_extension": ".py",
   "mimetype": "text/x-python",
   "name": "python",
   "nbconvert_exporter": "python",
   "pygments_lexer": "ipython3",
   "version": "3.5.1"
  }
 },
 "nbformat": 4,
 "nbformat_minor": 0
}
