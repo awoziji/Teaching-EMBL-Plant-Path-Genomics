{
 "cells": [
  {
   "cell_type": "markdown",
   "metadata": {},
   "source": [
    "# Exercise 01 - CDS Feature Comparisons <img src=\"images/JHI_STRAP_Web.png\" style=\"width: 150px; float: right;\">"
   ]
  },
  {
   "cell_type": "markdown",
   "metadata": {},
   "source": [
    "## Introduction\n",
    "\n",
    "We often have particular genes/proteins of interest, and want to identify these - or equivalent sequences - in our newly-sequenced genomes. We may also want to identify corresponding sequences in bulk across our newly-sequenced genomes. In this notebook, we will look at three methods (among many others!) of identifying equivalent sequence features in genomes, in bulk.\n",
    "\n",
    "The methods we will look at can broadly be considered to be of three different types:\n",
    "\n",
    "* one-way pairwise comparison\n",
    "* two-way pairwise comparison\n",
    "* clustering\n",
    "\n",
    "and they will give different results, for the same data."
   ]
  },
  {
   "cell_type": "markdown",
   "metadata": {},
   "source": [
    "## Running cells in this notebook\n",
    "\n",
    "This is an interactive notebook, which means you are able to run the code that is written in each of the cells.\n",
    "\n",
    "To run the code in a cell, you should:\n",
    "\n",
    "1. Place your mouse cursor in the cell, and click (this gives the cell *focus*) to make it active\n",
    "2. Hold down the `Shift` key, and press the `Return` key.\n",
    "\n",
    "If this is successful, you should see the input marker to the left of the cell change from\n",
    "\n",
    "```\n",
    "In [ ]:\n",
    "```\n",
    "\n",
    "to (for example)\n",
    "\n",
    "```\n",
    "In [1]:\n",
    "```\n",
    "\n",
    "and you may see output appear below the cell."
   ]
  },
  {
   "cell_type": "markdown",
   "metadata": {},
   "source": [
    "### Requirements\n",
    "\n",
    "<div class=\"alert alert-success\">\n",
    "To complete this exercise, you will need:\n",
    "<ul>\n",
    "<li>an active internet connection\n",
    "<li>a local installation of [`BLAST+`](https://blast.ncbi.nlm.nih.gov/Blast.cgi?PAGE_TYPE=BlastDocs&DOC_TYPE=Download)\n",
    "<li>a local installation of [`OrthoFinder`])(https://github.com/davidemms/OrthoFinder/releases)\n",
    "</ul>\n",
    "</div>"
   ]
  },
  {
   "cell_type": "markdown",
   "metadata": {},
   "source": [
    "## One-Way Best `BLAST` matches (BBH)\n",
    "\n",
    "It is still common to see one-way matches used - even if only informally, or as a first attempt - as a means of identifying equivalent proteins/features in a genome. In this section, we'll carry out a one-way `BLAST` search between the protein complements of *P. syringae* B728a and *P. fluorescens* NCIMB 11764, and inspect the results graphically."
   ]
  },
  {
   "cell_type": "markdown",
   "metadata": {},
   "source": [
    "### Performing the `BLASTP` query\n",
    "\n",
    "We will use the `blastp` command at the terminal to use every protein sequence in the *P. syringae* B728a annotation as a query against the predicted proteome of *P. fluorescens* NCIMB 11764. We will use some custom settings to make our analysis easier to carry out.\n",
    "\n",
    "<div class=\"alert alert-warning\">\n",
    "<ul>\n",
    "<li> We will want to limit our matches to only the best hit, so we specify `-max_target_seqs 1` \n",
    "<li> We want our output in tab-separated tabular particular format so we can import it easily, and we want some specific non-standard columns (e.g. query sequence coverage) in that table so we can carry out some useful calculations and visualisation. We therefore specify `-outfmt \"6 qseqid sseqid qlen slen length nident pident qcovs evalue bitscore\"`\n",
    "<li> To make the comparisons quicker, we should create `BLAST` databases for each of the three proteomes, with the `makeblastdb` command. \n",
    "</ul>\n",
    "</div>\n",
    "\n",
    "The relevant `BLAST` databases have already been created for you to save time (using the `scripts/02-cds_feature_comparisons.sh` script), and the results are in the `pseudomonas_blastp` directory:\n",
    "\n",
    "```\n",
    "$ tree ./pseudomonas_blastp\n",
    "./pseudomonas_blastp\n",
    "├── GCF_000012245.1_ASM1224v1_protein.phr\n",
    "├── GCF_000012245.1_ASM1224v1_protein.pin\n",
    "├── GCF_000012245.1_ASM1224v1_protein.psq\n",
    "├── GCF_000293885.2_ASM29388v3_protein.phr\n",
    "├── GCF_000293885.2_ASM29388v3_protein.pin\n",
    "├── GCF_000293885.2_ASM29388v3_protein.psq\n",
    "├── GCF_000988485.1_ASM98848v1_protein.phr\n",
    "├── GCF_000988485.1_ASM98848v1_protein.pin\n",
    "└── GCF_000988485.1_ASM98848v1_protein.psq\n",
    "```\n",
    "\n",
    "To carry out the one-way `BLASTP` search of *P. syringae* B728a against *P. fluorescens* NCIMB 11764, execute the following command in the terminal:\n",
    "\n",
    "```\n",
    "blastp -query  pseudomonas/GCF_000988485.1_ASM98848v1_protein.faa \\\n",
    "       -db pseudomonas_blastp/GCF_000293885.2_ASM29388v3_protein \\\n",
    "       -max_target_seqs 1 \\\n",
    "       -outfmt \"6 qseqid sseqid qlen slen length nident pident qcovs evalue bitscore\" \\\n",
    "       -out pseudomonas_blastp/B728a_vs_NCIMB_11764.tab\n",
    "```\n",
    "\n",
    "This will take a couple of minutes to complete."
   ]
  },
  {
   "cell_type": "markdown",
   "metadata": {},
   "source": [
    "### Importing and visualising the results\n",
    "\n",
    "The `Python` module `helpers` is included in this directory, to provide useful helper functions so that we can read and view the `BLASTP` output generated above. To make the functions available, we import it by running the `Python` code cell below."
   ]
  },
  {
   "cell_type": "markdown",
   "metadata": {},
   "source": [
    "<div class=\"alert alert-warning\">\n",
    "<b>NOTE:</b> The `%pylab inline` \"magic\" below allows us to see plots of the `BLAST` data we load.\n",
    "</div>"
   ]
  },
  {
   "cell_type": "code",
   "execution_count": null,
   "metadata": {
    "collapsed": false
   },
   "outputs": [],
   "source": [
    "%pylab inline\n",
    "# Import helper module\n",
    "from helpers import ex02"
   ]
  },
  {
   "cell_type": "markdown",
   "metadata": {},
   "source": [
    "The first thing we do is load in the `BLASTP` output we generated, so that we can plot some of the key features. We do that using the `ex02.read_data()` function in the cell below:"
   ]
  },
  {
   "cell_type": "code",
   "execution_count": null,
   "metadata": {
    "collapsed": false
   },
   "outputs": [],
   "source": [
    "# Load one-way BLAST results into a data frame called data_fwd\n",
    "data_fwd = ex02.read_data(\"pseudomonas_blastp/B728a_vs_NCIMB_11764.tab\")"
   ]
  },
  {
   "cell_type": "markdown",
   "metadata": {},
   "source": [
    "<div class=\"alert alert-warning\">\n",
    "<b>NOTE:</b> In the cell below, the `data.head()` function shows us the first few lines of the one-way `BLASTP` results, one per match; the `data.describe()` function shows us some summary data for the table.\n",
    "</div>"
   ]
  },
  {
   "cell_type": "code",
   "execution_count": null,
   "metadata": {
    "collapsed": false
   },
   "outputs": [],
   "source": [
    "# Show first few lines of the loaded data\n",
    "data_fwd.head()"
   ]
  },
  {
   "cell_type": "code",
   "execution_count": null,
   "metadata": {
    "collapsed": false
   },
   "outputs": [],
   "source": [
    "# Show descriptive statistics for the table\n",
    "data_fwd.describe()"
   ]
  },
  {
   "cell_type": "markdown",
   "metadata": {},
   "source": [
    "There are 5265 rows in this table, one for each of the query protein sequences in the *P. syringae* B728a annotation.\n",
    "\n",
    "We can look at the distribution of values in the dataframe rows using the `.hist()` method for any column of interest. For example, `data_fwd.subject_length.hist()` plots a histogram of the values in the `subject_length` column."
   ]
  },
  {
   "cell_type": "markdown",
   "metadata": {},
   "source": [
    "<div class=\"alert alert-warning\">\n",
    "<b>NOTE:</b> The `bins=100` option sets the number of value bins used in the histogram\n",
    "</div>"
   ]
  },
  {
   "cell_type": "code",
   "execution_count": null,
   "metadata": {
    "collapsed": false
   },
   "outputs": [],
   "source": [
    "# Plot a histogram of alignment lengths for the BLAST data\n",
    "data_fwd.alignment_length.hist(bins=100)"
   ]
  },
  {
   "cell_type": "code",
   "execution_count": null,
   "metadata": {
    "collapsed": false
   },
   "outputs": [],
   "source": [
    "# Plot a histogram of percentage identity for the BLAST data\n",
    "data_fwd.identity.hist(bins=100)"
   ]
  },
  {
   "cell_type": "code",
   "execution_count": null,
   "metadata": {
    "collapsed": false
   },
   "outputs": [],
   "source": [
    "# Plot a histogram of query_coverage for the BLAST data\n",
    "data_fwd.query_coverage.hist(bins=100)"
   ]
  },
  {
   "cell_type": "code",
   "execution_count": null,
   "metadata": {
    "collapsed": false
   },
   "outputs": [],
   "source": [
    "# Plot a histogram of percentage coverage for the BLAST data\n",
    "data_fwd.subject_coverage.hist(bins=100)"
   ]
  },
  {
   "cell_type": "markdown",
   "metadata": {},
   "source": [
    "From these histograms, we can see that:\n",
    "\n",
    "* most alignments are shorter than 500 amino acids long\n",
    "* that the alignment covers more than 80% of nearly all queries\n",
    "* that the alignment covers more than 80% of nearly all best matches to each query\n",
    "* there is a bimodal distribution of sequence identity: one where best matches peak at ≈80% identity, and one where best matches peak at ≈30% identity"
   ]
  },
  {
   "cell_type": "markdown",
   "metadata": {},
   "source": [
    "<div class=\"alert alert-warning\">\n",
    "<ul>\n",
    "<li><b>What size are most one-way best `BLAST` alignments?</b>\n",
    "<li><b>What is the typical query coverage?</b>\n",
    "<li><b>What is the typical subject coverage?</b>\n",
    "<li><b>What is the typical best `BLAST` match identity?</b>\n",
    "<li><b>Do one-way best `BLAST` matches always identify equivalent proteins?</b>\n",
    "</ul>\n",
    "</div>"
   ]
  },
  {
   "cell_type": "markdown",
   "metadata": {},
   "source": [
    "We can view the relationship betweens query coverage and subject coverage, and query coverage and match identity for these one-way best `BLAST` hits by plotting a 2D histogram, with the helper function `ex02.plot_hist2d()` in the cell below."
   ]
  },
  {
   "cell_type": "code",
   "execution_count": null,
   "metadata": {
    "collapsed": false
   },
   "outputs": [],
   "source": [
    "# Plot 2D histogram of subject sequence (match) coverage against query\n",
    "# sequence coverag\n",
    "ex02.plot_hist2d(data_fwd.query_coverage, data_fwd.subject_coverage,\n",
    "                \"one-way query COV\", \"one-way subject COV\", \n",
    "                \"one-way coverage comparison\")\n",
    "ex02.plot_hist2d(data_fwd.query_coverage, data_fwd.identity,\n",
    "                \"one-way query COV\", \"one-way match PID\", \n",
    "                \"one-way coverage/identity comparison\")"
   ]
  },
  {
   "cell_type": "markdown",
   "metadata": {},
   "source": [
    "<div class=\"alert alert-warning\">\n",
    "<ul>\n",
    "<li>**What is the query/subject coverage for most one-way best `BLAST` matches?**\n",
    "<li>**Do the remaining one-way `BLAST` matches have the same coverage for query and subject?**\n",
    "<li>**What is the typical query coverage of a high percentage identity match?**\n",
    "<li>**What is the typical query coverage of a low percentage identity match?**\n",
    "</ul>\n",
    "</div>"
   ]
  }
 ],
 "metadata": {
  "kernelspec": {
   "display_name": "Python 3",
   "language": "python",
   "name": "python3"
  },
  "language_info": {
   "codemirror_mode": {
    "name": "ipython",
    "version": 3
   },
   "file_extension": ".py",
   "mimetype": "text/x-python",
   "name": "python",
   "nbconvert_exporter": "python",
   "pygments_lexer": "ipython3",
   "version": "3.5.1"
  }
 },
 "nbformat": 4,
 "nbformat_minor": 0
}
